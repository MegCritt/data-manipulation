{
 "cells": [
  {
   "cell_type": "markdown",
   "id": "1894ccac",
   "metadata": {},
   "source": [
    "# Data Manipulation Studio\n",
    "\n",
    "For this studio, we will revisit our California farmers looking for advice on growing pumpkins and the same [pumpkins dataset](https://www.kaggle.com/usda/a-year-of-pumpkin-prices) as provided by the U.S. Department of Agriculture. You may have to clean data in the process of data manipulation, so feel free to pull up your notebook from the last class's studio.\n",
    "\n",
    "We will now be focusing our attention on a different region in the United States, the Northeast. When you open up the `dataset` folder, you will have 13 CSVs, including the San Francisco and Los Angeles data from the last lesson. The 13 CSVs are each a different terminal market in the United States.\n",
    "\n",
    "## Getting Started\n",
    "\n",
    "Import the CSVs for each of the following cities: Baltimore, Boston, New York, and Philadelphia. Set up a dataframe for each city."
   ]
  },
  {
   "cell_type": "code",
   "execution_count": 2,
   "id": "66c9a7e7",
   "metadata": {},
   "outputs": [],
   "source": [
    "# Import the necessary libraries and CSVs. Make some dataframes!\n",
    "import pandas as pd\n",
    "import numpy as np\n",
    "import matplotlib \n",
    "import matplotlib.pyplot as plt\n",
    "\n",
    "\n",
    "baltimoredata = pd.read_csv(\"baltimore_9-24-2016_9-30-2017.csv\")\n",
    "bostondata = pd.read_csv(\"boston_9-24-2016_9-30-2017.csv\")\n",
    "newyorkdata = pd.read_csv(\"new-york_9-24-2016_9-30-2017.csv\")\n",
    "philadelphiadata = pd.read_csv(\"philadelphia_9-24-2016_9-30-2017.csv\")"
   ]
  },
  {
   "cell_type": "markdown",
   "id": "6cfda42f",
   "metadata": {},
   "source": [
    "## Clean Your Data\n",
    "\n",
    "In the last lesson, we cleaned the data to related to San Francisco. Pull up your notebook from the last lesson and use your cleaning skills to clean the dataframes as necessary."
   ]
  },
  {
   "cell_type": "code",
   "execution_count": 51,
   "id": "98abc290",
   "metadata": {},
   "outputs": [
    {
     "ename": "TypeError",
     "evalue": "'DataFrame' object is not callable",
     "output_type": "error",
     "traceback": [
      "\u001b[1;31m---------------------------------------------------------------------------\u001b[0m",
      "\u001b[1;31mTypeError\u001b[0m                                 Traceback (most recent call last)",
      "\u001b[1;32m~\\AppData\\Local\\Temp\\ipykernel_12076\\2426376528.py\u001b[0m in \u001b[0;36m<module>\u001b[1;34m\u001b[0m\n\u001b[0;32m      2\u001b[0m \u001b[1;32mfor\u001b[0m \u001b[0mcol\u001b[0m \u001b[1;32min\u001b[0m \u001b[0mbaltimoredata\u001b[0m\u001b[1;33m.\u001b[0m\u001b[0mcolumns\u001b[0m\u001b[1;33m:\u001b[0m\u001b[1;33m\u001b[0m\u001b[1;33m\u001b[0m\u001b[0m\n\u001b[0;32m      3\u001b[0m     \u001b[0mpct_missing\u001b[0m \u001b[1;33m=\u001b[0m \u001b[0mnp\u001b[0m\u001b[1;33m.\u001b[0m\u001b[0mmean\u001b[0m\u001b[1;33m(\u001b[0m\u001b[0mbaltimoredata\u001b[0m\u001b[1;33m[\u001b[0m\u001b[0mcol\u001b[0m\u001b[1;33m]\u001b[0m\u001b[1;33m.\u001b[0m\u001b[0misnull\u001b[0m\u001b[1;33m(\u001b[0m\u001b[1;33m)\u001b[0m\u001b[1;33m)\u001b[0m\u001b[1;33m\u001b[0m\u001b[1;33m\u001b[0m\u001b[0m\n\u001b[1;32m----> 4\u001b[1;33m     \u001b[0mprint\u001b[0m\u001b[1;33m(\u001b[0m\u001b[1;34m\"Baltimore: \"\u001b[0m\u001b[1;34m'{} - {}%'\u001b[0m\u001b[1;33m.\u001b[0m\u001b[0mformat\u001b[0m\u001b[1;33m(\u001b[0m\u001b[0mcol\u001b[0m\u001b[1;33m,\u001b[0m \u001b[0mround\u001b[0m\u001b[1;33m(\u001b[0m\u001b[0mpct_missing\u001b[0m\u001b[1;33m*\u001b[0m\u001b[1;36m100\u001b[0m\u001b[1;33m)\u001b[0m\u001b[1;33m)\u001b[0m\u001b[1;33m)\u001b[0m\u001b[1;33m\u001b[0m\u001b[1;33m\u001b[0m\u001b[0m\n\u001b[0m\u001b[0;32m      5\u001b[0m \u001b[1;32mfor\u001b[0m \u001b[0mcol\u001b[0m \u001b[1;32min\u001b[0m \u001b[0mbostondata\u001b[0m\u001b[1;33m.\u001b[0m\u001b[0mcolumns\u001b[0m\u001b[1;33m:\u001b[0m\u001b[1;33m\u001b[0m\u001b[1;33m\u001b[0m\u001b[0m\n\u001b[0;32m      6\u001b[0m     \u001b[0mpct_missing\u001b[0m \u001b[1;33m=\u001b[0m \u001b[0mnp\u001b[0m\u001b[1;33m.\u001b[0m\u001b[0mmean\u001b[0m\u001b[1;33m(\u001b[0m\u001b[0mbostondata\u001b[0m\u001b[1;33m[\u001b[0m\u001b[0mcol\u001b[0m\u001b[1;33m]\u001b[0m\u001b[1;33m.\u001b[0m\u001b[0misnull\u001b[0m\u001b[1;33m(\u001b[0m\u001b[1;33m)\u001b[0m\u001b[1;33m)\u001b[0m\u001b[1;33m\u001b[0m\u001b[1;33m\u001b[0m\u001b[0m\n",
      "\u001b[1;31mTypeError\u001b[0m: 'DataFrame' object is not callable"
     ]
    }
   ],
   "source": [
    "# Clean your data here!\n",
    "for col in baltimoredata.columns:\n",
    "    pct_missing = np.mean(baltimoredata[col].isnull())\n",
    "    print(\"Baltimore: \"'{} - {}%'.format(col, round(pct_missing*100)))\n",
    "for col in bostondata.columns:\n",
    "    pct_missing = np.mean(bostondata[col].isnull())\n",
    "    print(\"Boston: \"'{} - {}%'.format(col, round(pct_missing*100)))\n",
    "for col in newyorkdata.columns:\n",
    "    pct_missing = np.mean(newyorkdata[col].isnull())\n",
    "    print(\"New York: \"'{} - {}%'.format(col, round(pct_missing*100)))\n",
    "for col in philadelphiadata.columns:\n",
    "    pct_missing = np.mean(philadelphiadata[col].isnull())\n",
    "    print(\"Philadelphia: \"'{} - {}%'.format(col, round(pct_missing*100)))\n",
    "    \n",
    "data = baltimoredata.drop([\"Type\", \"Grade\",\"Origin District\",\"Environment\",\"Quality\", \"Condition\", \"Appearance\", \"Storage\", \"Crop\",\"Trans Mode\"],axis=1) \n",
    "data = bostondata.drop([\"Type\", \"Grade\",\"Origin District\",\"Environment\",\"Quality\", \"Condition\", \"Appearance\", \"Storage\", \"Crop\",\"Trans Mode\"],axis=1)\n",
    "data = newyorkdata.drop([\"Type\", \"Grade\",\"Origin District\",\"Environment\",\"Quality\", \"Condition\", \"Appearance\", \"Storage\", \"Crop\",\"Trans Mode\"],axis=1)\n",
    "data = philadelphiadata.drop([\"Type\", \"Grade\",\"Origin District\",\"Color\",\"Environment\",\"Quality\", \"Condition\", \"Appearance\", \"Storage\", \"Crop\",\"Trans Mode\"],axis=1)"
   ]
  },
  {
   "cell_type": "markdown",
   "id": "e70b01b9",
   "metadata": {},
   "source": [
    "## Combine Your Data\n",
    "\n",
    "Now that you have four clean sets of data, combine all four into one dataframe that represents the entire Northeast region."
   ]
  },
  {
   "cell_type": "code",
   "execution_count": 52,
   "id": "da059f8a",
   "metadata": {},
   "outputs": [],
   "source": [
    "# Combine the four dataframes into one!\n",
    "NEframes = [baltimoredata, bostondata, newyorkdata, philadelphiadata]\n",
    "\n",
    "result = pd.concat(NEframes)\n",
    "\n",
    "NEjoined = pd.concat(NEframes)\n"
   ]
  },
  {
   "cell_type": "markdown",
   "id": "8590082f",
   "metadata": {},
   "source": [
    "## Answer Some Questions\n",
    "\n",
    "Use `groupby()` and `agg()` to answer the following two questions:\n",
    "\n",
    "1. What is the mean low and high prices for each type of unit of sale in the Northeast region? In the last lesson, we learned that a unit of sale could be something like a bin or individually. \n",
    "2. What is the average number of pumpkins for each variety that came into terminal markets for the year by region? Pumpkin varieties include Howden and Fairytale pumpkins."
   ]
  },
  {
   "cell_type": "code",
   "execution_count": 53,
   "id": "c839639a",
   "metadata": {},
   "outputs": [
    {
     "data": {
      "text/html": [
       "<div>\n",
       "<style scoped>\n",
       "    .dataframe tbody tr th:only-of-type {\n",
       "        vertical-align: middle;\n",
       "    }\n",
       "\n",
       "    .dataframe tbody tr th {\n",
       "        vertical-align: top;\n",
       "    }\n",
       "\n",
       "    .dataframe thead th {\n",
       "        text-align: right;\n",
       "    }\n",
       "</style>\n",
       "<table border=\"1\" class=\"dataframe\">\n",
       "  <thead>\n",
       "    <tr style=\"text-align: right;\">\n",
       "      <th></th>\n",
       "      <th></th>\n",
       "      <th>Type</th>\n",
       "      <th>Grade</th>\n",
       "      <th>Mostly Low</th>\n",
       "      <th>Mostly High</th>\n",
       "      <th>Environment</th>\n",
       "      <th>Quality</th>\n",
       "      <th>Condition</th>\n",
       "      <th>Appearance</th>\n",
       "      <th>Storage</th>\n",
       "      <th>Crop</th>\n",
       "      <th>Trans Mode</th>\n",
       "    </tr>\n",
       "    <tr>\n",
       "      <th>Low Price</th>\n",
       "      <th>High Price</th>\n",
       "      <th></th>\n",
       "      <th></th>\n",
       "      <th></th>\n",
       "      <th></th>\n",
       "      <th></th>\n",
       "      <th></th>\n",
       "      <th></th>\n",
       "      <th></th>\n",
       "      <th></th>\n",
       "      <th></th>\n",
       "      <th></th>\n",
       "    </tr>\n",
       "  </thead>\n",
       "  <tbody>\n",
       "    <tr>\n",
       "      <th rowspan=\"2\" valign=\"top\">12</th>\n",
       "      <th>12.0</th>\n",
       "      <td>NaN</td>\n",
       "      <td>NaN</td>\n",
       "      <td>12.0</td>\n",
       "      <td>12.000000</td>\n",
       "      <td>NaN</td>\n",
       "      <td>NaN</td>\n",
       "      <td>NaN</td>\n",
       "      <td>NaN</td>\n",
       "      <td>NaN</td>\n",
       "      <td>NaN</td>\n",
       "      <td>NaN</td>\n",
       "    </tr>\n",
       "    <tr>\n",
       "      <th>14.0</th>\n",
       "      <td>NaN</td>\n",
       "      <td>NaN</td>\n",
       "      <td>12.0</td>\n",
       "      <td>14.000000</td>\n",
       "      <td>NaN</td>\n",
       "      <td>NaN</td>\n",
       "      <td>NaN</td>\n",
       "      <td>NaN</td>\n",
       "      <td>NaN</td>\n",
       "      <td>NaN</td>\n",
       "      <td>NaN</td>\n",
       "    </tr>\n",
       "    <tr>\n",
       "      <th rowspan=\"3\" valign=\"top\">15</th>\n",
       "      <th>15.0</th>\n",
       "      <td>NaN</td>\n",
       "      <td>NaN</td>\n",
       "      <td>15.0</td>\n",
       "      <td>15.000000</td>\n",
       "      <td>NaN</td>\n",
       "      <td>NaN</td>\n",
       "      <td>NaN</td>\n",
       "      <td>NaN</td>\n",
       "      <td>NaN</td>\n",
       "      <td>NaN</td>\n",
       "      <td>NaN</td>\n",
       "    </tr>\n",
       "    <tr>\n",
       "      <th>16.0</th>\n",
       "      <td>NaN</td>\n",
       "      <td>NaN</td>\n",
       "      <td>15.0</td>\n",
       "      <td>15.090909</td>\n",
       "      <td>NaN</td>\n",
       "      <td>NaN</td>\n",
       "      <td>NaN</td>\n",
       "      <td>NaN</td>\n",
       "      <td>NaN</td>\n",
       "      <td>NaN</td>\n",
       "      <td>NaN</td>\n",
       "    </tr>\n",
       "    <tr>\n",
       "      <th>17.0</th>\n",
       "      <td>NaN</td>\n",
       "      <td>NaN</td>\n",
       "      <td>15.0</td>\n",
       "      <td>17.000000</td>\n",
       "      <td>NaN</td>\n",
       "      <td>NaN</td>\n",
       "      <td>NaN</td>\n",
       "      <td>NaN</td>\n",
       "      <td>NaN</td>\n",
       "      <td>NaN</td>\n",
       "      <td>NaN</td>\n",
       "    </tr>\n",
       "  </tbody>\n",
       "</table>\n",
       "</div>"
      ],
      "text/plain": [
       "                      Type  Grade  Mostly Low  Mostly High  Environment  \\\n",
       "Low Price High Price                                                      \n",
       "12        12.0         NaN    NaN        12.0    12.000000          NaN   \n",
       "          14.0         NaN    NaN        12.0    14.000000          NaN   \n",
       "15        15.0         NaN    NaN        15.0    15.000000          NaN   \n",
       "          16.0         NaN    NaN        15.0    15.090909          NaN   \n",
       "          17.0         NaN    NaN        15.0    17.000000          NaN   \n",
       "\n",
       "                      Quality  Condition  Appearance  Storage  Crop  \\\n",
       "Low Price High Price                                                  \n",
       "12        12.0            NaN        NaN         NaN      NaN   NaN   \n",
       "          14.0            NaN        NaN         NaN      NaN   NaN   \n",
       "15        15.0            NaN        NaN         NaN      NaN   NaN   \n",
       "          16.0            NaN        NaN         NaN      NaN   NaN   \n",
       "          17.0            NaN        NaN         NaN      NaN   NaN   \n",
       "\n",
       "                      Trans Mode  \n",
       "Low Price High Price              \n",
       "12        12.0               NaN  \n",
       "          14.0               NaN  \n",
       "15        15.0               NaN  \n",
       "          16.0               NaN  \n",
       "          17.0               NaN  "
      ]
     },
     "execution_count": 53,
     "metadata": {},
     "output_type": "execute_result"
    }
   ],
   "source": [
    "# Put your code here to find the mean low and high prices in the Northeast region for each type of unit of sale.\n",
    "NEjoinedHL = NEjoined.groupby([\"Low Price\",\"High Price\"])\n",
    "NEjoinedHL.mean().head()"
   ]
  },
  {
   "cell_type": "code",
   "execution_count": 40,
   "id": "b4b23352",
   "metadata": {},
   "outputs": [
    {
     "data": {
      "text/plain": [
       "<bound method NDFrame.head of                           Type  Grade   Low Price  High Price  Mostly Low  \\\n",
       "Variety                                                                     \n",
       "BIG MACK TYPE              NaN    NaN  129.454545  147.272727  137.363636   \n",
       "BLUE TYPE                  NaN    NaN  260.000000  285.000000  285.000000   \n",
       "CINDERELLA                 NaN    NaN  206.051282  220.974359  215.025641   \n",
       "FAIRYTALE                  NaN    NaN  198.783784  214.108108  208.243243   \n",
       "HOWDEN TYPE                NaN    NaN  152.834821  177.098214  158.303571   \n",
       "HOWDEN WHITE TYPE          NaN    NaN  170.000000  180.000000  170.000000   \n",
       "KNUCKLE HEAD               NaN    NaN  238.888889  260.555556  258.333333   \n",
       "MINIATURE                  NaN    NaN   16.391753   17.886598   16.453608   \n",
       "MIXED HEIRLOOM VARIETIES   NaN    NaN  210.000000  230.000000  210.000000   \n",
       "PIE TYPE                   NaN    NaN  133.404040  148.118687  137.459596   \n",
       "\n",
       "                          Mostly High  Environment  Quality  Condition  \\\n",
       "Variety                                                                  \n",
       "BIG MACK TYPE              145.454545          NaN      NaN        NaN   \n",
       "BLUE TYPE                  285.000000          NaN      NaN        NaN   \n",
       "CINDERELLA                 220.974359          NaN      NaN        NaN   \n",
       "FAIRYTALE                  213.648649          NaN      NaN        NaN   \n",
       "HOWDEN TYPE                165.290179          NaN      NaN        NaN   \n",
       "HOWDEN WHITE TYPE          180.000000          NaN      NaN        NaN   \n",
       "KNUCKLE HEAD               260.555556          NaN      NaN        NaN   \n",
       "MINIATURE                   17.000000          NaN      NaN        NaN   \n",
       "MIXED HEIRLOOM VARIETIES   230.000000          NaN      NaN        NaN   \n",
       "PIE TYPE                   142.568182          NaN      NaN        NaN   \n",
       "\n",
       "                          Appearance  Storage  Crop  Trans Mode  \n",
       "Variety                                                          \n",
       "BIG MACK TYPE                    NaN      NaN   NaN         NaN  \n",
       "BLUE TYPE                        NaN      NaN   NaN         NaN  \n",
       "CINDERELLA                       NaN      NaN   NaN         NaN  \n",
       "FAIRYTALE                        NaN      NaN   NaN         NaN  \n",
       "HOWDEN TYPE                      NaN      NaN   NaN         NaN  \n",
       "HOWDEN WHITE TYPE                NaN      NaN   NaN         NaN  \n",
       "KNUCKLE HEAD                     NaN      NaN   NaN         NaN  \n",
       "MINIATURE                        NaN      NaN   NaN         NaN  \n",
       "MIXED HEIRLOOM VARIETIES         NaN      NaN   NaN         NaN  \n",
       "PIE TYPE                         NaN      NaN   NaN         NaN  >"
      ]
     },
     "execution_count": 40,
     "metadata": {},
     "output_type": "execute_result"
    }
   ],
   "source": [
    "# Put your code here to find the average number of pumpkins coming into terminal markets of each variety.\n",
    "NEjoinedVariety = NEjoined.groupby([\"Variety\"])\n",
    "NEjoinedVariety.mean().head"
   ]
  },
  {
   "cell_type": "markdown",
   "id": "a2e5cff4",
   "metadata": {},
   "source": [
    "## Bonus Mission\n",
    "\n",
    "Try answering the same questions for the Midwest (Chicago, Detroit, and St. Louis) or the Southeast (Atlanta, Columbia, and Miami) regions."
   ]
  },
  {
   "cell_type": "code",
   "execution_count": 59,
   "id": "1d22b7fd",
   "metadata": {},
   "outputs": [],
   "source": [
    "# Try the bonus mission if you have time!"
   ]
  },
  {
   "cell_type": "code",
   "execution_count": null,
   "id": "09dbc152",
   "metadata": {},
   "outputs": [],
   "source": []
  }
 ],
 "metadata": {
  "kernelspec": {
   "display_name": "Python 3 (ipykernel)",
   "language": "python",
   "name": "python3"
  },
  "language_info": {
   "codemirror_mode": {
    "name": "ipython",
    "version": 3
   },
   "file_extension": ".py",
   "mimetype": "text/x-python",
   "name": "python",
   "nbconvert_exporter": "python",
   "pygments_lexer": "ipython3",
   "version": "3.9.13"
  }
 },
 "nbformat": 4,
 "nbformat_minor": 5
}
